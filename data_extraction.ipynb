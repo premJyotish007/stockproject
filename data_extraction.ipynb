{
 "cells": [
  {
   "cell_type": "code",
   "execution_count": 1,
   "metadata": {},
   "outputs": [],
   "source": [
    "import pandas as pd\n",
    "# reads from the existing stock_data.csv and prints its contents\n",
    "df = pd.read_csv(\"stock_data.csv\")\n",
    "\n",
    "# imports the database of ticker symbols to perform analysis on\n",
    "df_tickers = pd.read_csv(\"TICKER_SYMBOLS.csv\")"
   ]
  },
  {
   "cell_type": "code",
   "execution_count": 2,
   "metadata": {},
   "outputs": [],
   "source": [
    "#Functions to get data from yahoo finance api\n",
    "url = \"https://yfapi.net/v6/finance/quote\"\n",
    "\n",
    "headers = {\n",
    "    'x-api-key': \"5xkunZ5a3H6kv1QLIG5EyIi47Up8SqN19Wp9oIc5\"\n",
    "    }\n",
    "import requests\n",
    "\n",
    "def dict_metrics(sym):\n",
    "    querystring = {\"symbols\": sym}\n",
    "    try:\n",
    "        return requests.request(\"GET\", url, headers=headers, params=querystring).json()[\"quoteResponse\"][\"result\"][0]\n",
    "    except:\n",
    "        print(\"100 API Calls exceeded\")\n",
    "\n",
    "def printDictFormatted(d):\n",
    "    for key in d:\n",
    "        print(str(key) + \": \" + str(d[key]))\n",
    "def metric(sym, col):\n",
    "    querystring = {\"symbols\": sym}\n",
    "    try:\n",
    "        response = requests.request(\"GET\", url, headers=headers, params=querystring)\n",
    "        stock_info_dict = response.json()[\"quoteResponse\"][\"result\"][0]\n",
    "        return stock_info_dict[col]\n",
    "    except:\n",
    "        return \"100 API Calls exceeded\""
   ]
  },
  {
   "cell_type": "code",
   "execution_count": 3,
   "metadata": {},
   "outputs": [
    {
     "data": {
      "text/plain": [
       "8811      WGLD\n",
       "4469      EMLD\n",
       "3232      TITN\n",
       "9380    CIM-PD\n",
       "4508      VBNK\n",
       "Name: ticker, dtype: object"
      ]
     },
     "execution_count": 3,
     "metadata": {},
     "output_type": "execute_result"
    }
   ],
   "source": [
    "# Draws a random sample of 5 tickers from the tickers database to insert data for and prints.\n",
    "df_tickers_sample = df_tickers.sample(5)\n",
    "tickers = df_tickers_sample[\"ticker\"]\n",
    "tickers\n"
   ]
  },
  {
   "cell_type": "code",
   "execution_count": 4,
   "metadata": {},
   "outputs": [],
   "source": [
    "for ticker in tickers:\n",
    "    df = df.append(dict_metrics(ticker), ignore_index=True)"
   ]
  },
  {
   "cell_type": "code",
   "execution_count": 5,
   "metadata": {},
   "outputs": [],
   "source": [
    "def insert_at(df, pos, column_name):\n",
    "    df.insert(pos, column_name, df.pop(column_name))"
   ]
  },
  {
   "cell_type": "code",
   "execution_count": 6,
   "metadata": {},
   "outputs": [],
   "source": [
    "# inserts the columns of symbol and bid at the beginning of the dataframe\n",
    "try:\n",
    "    insert_at(df, 0, \"symbol\")\n",
    "    insert_at(df, 1, \"bid\")\n",
    "    insert_at(df, 2, \"marketCap\")\n",
    "    insert_at(df, 3, \"displayName\")\n",
    "except:\n",
    "    print(\"Column cannot be popped\")\n",
    "\n",
    "# reads the dataframe of stock data into a csv named \"stock_data.csv\"\n",
    "df.to_csv(\"stock_data.csv\", index = False)"
   ]
  },
  {
   "cell_type": "code",
   "execution_count": null,
   "metadata": {},
   "outputs": [],
   "source": []
  }
 ],
 "metadata": {
  "interpreter": {
   "hash": "efb5bb2c72f4c5aeb508e443523a3a59185107a082ba9cf05e495a2fdfe30d88"
  },
  "kernelspec": {
   "display_name": "Python 3.10.1 64-bit",
   "language": "python",
   "name": "python3"
  },
  "language_info": {
   "codemirror_mode": {
    "name": "ipython",
    "version": 3
   },
   "file_extension": ".py",
   "mimetype": "text/x-python",
   "name": "python",
   "nbconvert_exporter": "python",
   "pygments_lexer": "ipython3",
   "version": "3.10.1"
  },
  "orig_nbformat": 4
 },
 "nbformat": 4,
 "nbformat_minor": 2
}
