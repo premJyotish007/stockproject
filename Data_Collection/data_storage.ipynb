{
 "cells": [
  {
   "cell_type": "code",
   "execution_count": 34,
   "metadata": {},
   "outputs": [],
   "source": [
    "# Imports the script to scrape stock data from Yahoo Finance\n",
    "import scraper\n",
    "# Imports pandas to work the spreadsheet on backend\n",
    "import pandas as pd\n",
    "# DataFrame that will contain stock data to be passed into the spreadsheet\n",
    "df = pd.read_csv(\"Stock_Data.csv\")"
   ]
  },
  {
   "cell_type": "code",
   "execution_count": 35,
   "metadata": {},
   "outputs": [],
   "source": [
    "stocks_to_track = [\"AAPL\", \"MSFT\", \"GOOG\", \"FB\", \"AMZN\", \"NFLX\", \"TSLA\", \"DIS\"]"
   ]
  },
  {
   "cell_type": "code",
   "execution_count": 36,
   "metadata": {},
   "outputs": [],
   "source": [
    "def fetch_data(list_stocks):\n",
    "    to_insert = []\n",
    "    for stock in list_stocks:\n",
    "        d = {\"Symbol\": stock, \"Price\": scraper.getCurrentStockPrice(stock)}\n",
    "        to_insert.append(d) \n",
    "\n",
    "    return pd.DataFrame(to_insert)"
   ]
  },
  {
   "cell_type": "code",
   "execution_count": 37,
   "metadata": {},
   "outputs": [],
   "source": [
    "df = df.append(fetch_data(stocks_to_track), ignore_index=True)\n",
    "df.sort_values(\"Symbol\")\n",
    "try:\n",
    "    del df[\"Unnamed: 0\"]\n",
    "except:\n",
    "    pass\n",
    "df.to_csv(\"Stock_Data.csv\", index=True)"
   ]
  },
  {
   "cell_type": "code",
   "execution_count": null,
   "metadata": {},
   "outputs": [],
   "source": []
  }
 ],
 "metadata": {
  "interpreter": {
   "hash": "9a798835f25a353ff9c7e6e3e77ea028fe91a2e60c4bedf087adb8eebc5c4917"
  },
  "kernelspec": {
   "display_name": "Python 3.9.9 64-bit (windows store)",
   "language": "python",
   "name": "python3"
  },
  "language_info": {
   "codemirror_mode": {
    "name": "ipython",
    "version": 3
   },
   "file_extension": ".py",
   "mimetype": "text/x-python",
   "name": "python",
   "nbconvert_exporter": "python",
   "pygments_lexer": "ipython3",
   "version": "3.9.9"
  },
  "orig_nbformat": 4
 },
 "nbformat": 4,
 "nbformat_minor": 2
}
